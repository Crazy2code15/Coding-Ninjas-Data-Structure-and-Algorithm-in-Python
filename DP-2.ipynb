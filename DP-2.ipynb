{
 "cells": [
  {
   "cell_type": "markdown",
   "id": "08e7f327",
   "metadata": {},
   "source": [
    "Min Cost Path Problem"
   ]
  },
  {
   "cell_type": "code",
   "execution_count": null,
   "id": "ee774a97",
   "metadata": {},
   "outputs": [],
   "source": [
    "from sys import stdin\n",
    "MAX_VALUE = 2147483647\n",
    "\n",
    "def minCostPathHelper(input, mRows, nCols, currRow, currCol) :\n",
    "    if (currRow >= mRows) or (currCol >= nCols) :\n",
    "        return MAX_VALUE\n",
    "\n",
    "        \n",
    "    if currRow == (mRows - 1) and currCol == (nCols - 1) :\n",
    "        return input[currRow][currCol]\n",
    "\n",
    "    downCost = minCostPathHelper(input, mRows, nCols, (currRow + 1), currCol)\n",
    "    diagonalCost = minCostPathHelper(input, mRows, nCols, (currRow + 1), (currCol + 1))\n",
    "    leftCost = minCostPathHelper(input, mRows, nCols, currRow, (currCol + 1))\n",
    "\n",
    "    return input[currRow][currCol] + min(diagonalCost, downCost, leftCost)\n",
    "\n",
    "\n",
    "\n",
    "def minCostPath(input, mRows, nCols) :\n",
    "    if mRows == 0 :\n",
    "        return MAX_VALUE\n",
    "    \n",
    "    return minCostPathHelper(input, mRows, nCols, 0, 0)\n",
    "\n",
    "\n",
    "\n",
    "\n",
    "def take2DInput() :\n",
    "    li = stdin.readline().rstrip().split(\" \")\n",
    "    mRows = int(li[0])\n",
    "    nCols = int(li[1])\n",
    "    \n",
    "    if mRows == 0 :\n",
    "        return list(), 0, 0\n",
    "    \n",
    "    mat = [list(map(int, input().strip().split(\" \"))) for row in range(mRows)]\n",
    "    return mat, mRows, nCols\n",
    "\n",
    "\n",
    "#main\n",
    "mat, mRows, nCols = take2DInput()\n",
    "print(minCostPath(mat, mRows, nCols))"
   ]
  },
  {
   "cell_type": "markdown",
   "id": "ea1cc31d",
   "metadata": {},
   "source": [
    "LCS - Problem"
   ]
  },
  {
   "cell_type": "code",
   "execution_count": null,
   "id": "122d6a03",
   "metadata": {},
   "outputs": [],
   "source": [
    "from sys import stdin\n",
    "\n",
    "def lcs(s, t) :\n",
    "    m = len(s)\n",
    "    n = len(t)\n",
    "    \n",
    "    subProblems = [[0] * (n + 1) for i in range((m + 1))]\n",
    "    \n",
    "\n",
    "    for currStart in range(1, (m + 1)) :\n",
    "        for currEnd in range(1, (n + 1)) :\n",
    "            if s[m - currStart] == t[n - currEnd] :\n",
    "                subProblems[currStart][currEnd] = 1 + subProblems[currStart - 1][currEnd - 1]\n",
    "            else :\n",
    "                subProblems[currStart][currEnd] = max(subProblems[currStart - 1][currEnd], subProblems[currStart][currEnd - 1])\n",
    "                \n",
    "    return subProblems[m][n]\n",
    "    \n",
    "\n",
    "\n",
    "#main\n",
    "s = str(stdin.readline().rstrip())\n",
    "t = str(stdin.readline().rstrip())\n",
    "\n",
    "print(lcs(s, t))"
   ]
  },
  {
   "cell_type": "markdown",
   "id": "1dfaed05",
   "metadata": {},
   "source": [
    "0 1 Knapsack - Problem"
   ]
  },
  {
   "cell_type": "code",
   "execution_count": null,
   "id": "424edf09",
   "metadata": {},
   "outputs": [],
   "source": [
    "from sys import stdin\n",
    "\n",
    "def knapsack(weights, values, n, maxWeight) :\n",
    "    if (n == 0) or (maxWeight == 0) :\n",
    "        return 0\n",
    "\n",
    "    if weights[n - 1] > maxWeight :\n",
    "        return knapsack(weights, values, n - 1, maxWeight)\n",
    "\n",
    "    includeItem = values[n - 1] + knapsack(weights, values, n - 1, maxWeight - weights[n - 1])\n",
    "\n",
    "    excludeItem = knapsack(weights, values, n - 1, maxWeight)\n",
    "\n",
    "    return max(includeItem, excludeItem)\n",
    "\n",
    "\n",
    "\n",
    "\n",
    "def takeInput() :\n",
    "    n = int(stdin.readline().rstrip())\n",
    "\n",
    "    if n == 0 :\n",
    "        return list(), list(), n, 0\n",
    "\n",
    "    weights = list(map(int, stdin.readline().rstrip().split(\" \")))\n",
    "    values = list(map(int, stdin.readline().rstrip().split(\" \")))\n",
    "    maxWeight = int(stdin.readline().rstrip())\n",
    "\n",
    "    return weights, values, n, maxWeight\n",
    "\n",
    "\n",
    "#main\n",
    "weights, values, n, maxWeight = takeInput()\n",
    "\n",
    "print(knapsack(weights, values, n, maxWeight))"
   ]
  },
  {
   "cell_type": "markdown",
   "id": "4cb91602",
   "metadata": {},
   "source": [
    "Matrix Chain Multiplication"
   ]
  },
  {
   "cell_type": "code",
   "execution_count": null,
   "id": "b76c4484",
   "metadata": {},
   "outputs": [],
   "source": [
    "import sys\n",
    "from sys import stdin\n",
    "def mcm(p,n):\n",
    "\tn+=1\n",
    "\tm=[[sys.maxsize for i in range (0,n+1)] for j in range (0,n+1)]\n",
    "\tfor i in range (1,n):\n",
    "\t\tm[i][i]=0\n",
    "\tfor l in range (2,n):\n",
    "\t\tfor i in range (1,n-l+1):\n",
    "\t\t\tj=i+l-1\n",
    "\t\t\tfor k in range (i,j):\n",
    "\t\t\t\tq=m[i][k]+m[k+1][j]+p[i-1]*p[k]*p[j]\n",
    "\t\t\t\tif(q<m[i][j]):\n",
    "\t\t\t\t\tm[i][j]=q\n",
    "\treturn m[1][n-1]\n",
    "\n",
    "n=int(stdin.readline().strip())\n",
    "p=[int(i) for i in stdin.readline().strip().split()]\n",
    "print(mcm(p,n))"
   ]
  },
  {
   "cell_type": "code",
   "execution_count": null,
   "id": "4635344b",
   "metadata": {},
   "outputs": [],
   "source": []
  }
 ],
 "metadata": {
  "kernelspec": {
   "display_name": "Python 3",
   "language": "python",
   "name": "python3"
  },
  "language_info": {
   "codemirror_mode": {
    "name": "ipython",
    "version": 3
   },
   "file_extension": ".py",
   "mimetype": "text/x-python",
   "name": "python",
   "nbconvert_exporter": "python",
   "pygments_lexer": "ipython3",
   "version": "3.8.8"
  }
 },
 "nbformat": 4,
 "nbformat_minor": 5
}
