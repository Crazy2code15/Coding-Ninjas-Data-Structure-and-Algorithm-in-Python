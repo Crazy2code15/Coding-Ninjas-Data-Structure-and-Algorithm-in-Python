{
 "cells": [
  {
   "cell_type": "markdown",
   "id": "7e07efc0",
   "metadata": {},
   "source": [
    "Return subsets sum to K"
   ]
  },
  {
   "cell_type": "code",
   "execution_count": null,
   "id": "0fa71810",
   "metadata": {},
   "outputs": [],
   "source": [
    "import sys\n",
    "sys.setrecursionlimit(10**6)\n",
    "\n",
    "def subsetsSumKHelper(arr, startIndex, k) :\n",
    "    if startIndex == len(arr) :\n",
    "        if k == 0 :\n",
    "            return [list()]\n",
    "        else :\n",
    "            return list()\n",
    "        \n",
    "    smallOutput1 = subsetsSumKHelper(arr, startIndex + 1, k) \n",
    "    smallOutput2 = subsetsSumKHelper(arr, startIndex + 1, k - arr[startIndex]) \n",
    "    \n",
    "    output = (len(smallOutput1) + len(smallOutput2)) * [0]\n",
    "    \n",
    "    index = 0\n",
    "    for i in range(len(smallOutput1)) :\n",
    "        output[index] = smallOutput1[i]\n",
    "        index += 1\n",
    "        \n",
    "    for i in range(len(smallOutput2)) :\n",
    "        output[index] = (len(smallOutput2[i]) + 1) * [0]\n",
    "        output[index][0]= arr[startIndex]\n",
    "        \n",
    "        for j in range(len(smallOutput2[i])) :\n",
    "            output[index][j+1] = smallOutput2[i][j]\n",
    "            \n",
    "        index += 1\n",
    "        \n",
    "    return output\n",
    "        \n",
    "\n",
    "def subsetsSumK(arr, k) :\n",
    "    return subsetsSumKHelper(arr, 0, k)\n",
    "\n",
    "\n",
    "\n",
    "def takeInput() :\n",
    "    n = int(input().strip())\n",
    "\n",
    "    if n == 0 :\n",
    "        return list(), 0\n",
    "\n",
    "    arr = [int(element) for element in list(input().strip().split(\" \"))]\n",
    "    return arr, n\n",
    "\n",
    "\n",
    "def printListOfList(liOfLi) :\n",
    "    for li in liOfLi :\n",
    "        for elem in li :\n",
    "            print(elem, end = \" \")\n",
    "        print()\n",
    "\n",
    "#main\n",
    "arr, n = takeInput()\n",
    "\n",
    "if n != 0 :\n",
    "    k = int(input().strip())\n",
    "    liOfLi = subsetsSumK(arr, k)\n",
    "\n",
    "    printListOfList(liOfLi)"
   ]
  },
  {
   "cell_type": "markdown",
   "id": "ec8e8c23",
   "metadata": {},
   "source": [
    "Return subset of an array"
   ]
  },
  {
   "cell_type": "code",
   "execution_count": null,
   "id": "6a23cf1b",
   "metadata": {},
   "outputs": [],
   "source": [
    "## Read input as specified in the question.\n",
    "## Print output as specified in the question.\n",
    "def subset(arr):\n",
    "    n=len(arr)\n",
    "    if(n<=0):\n",
    "        output = [ [] ]\n",
    "        return output\n",
    "\n",
    "    output = subset(arr[:n-1])\n",
    "    outputLen = len(output)\n",
    "    #output *= 2 This copies the reference. We need shallow copies\n",
    "    for i in range(0, outputLen):\n",
    "        output.append(output[i].copy())\n",
    "        output[outputLen+i].append(arr[n-1])\n",
    "    return output\n",
    "\n",
    "n=int(input())\n",
    "arr=list(int(i) for i in input().strip().split(' '))\n",
    "output=subset(arr)\n",
    "for lst in output:\n",
    "    for num in lst:\n",
    "        print(num, end=' ')\n",
    "    print()"
   ]
  },
  {
   "cell_type": "markdown",
   "id": "5a05dc7a",
   "metadata": {},
   "source": [
    "Print Subsets of Array"
   ]
  },
  {
   "cell_type": "code",
   "execution_count": null,
   "id": "ad062487",
   "metadata": {},
   "outputs": [],
   "source": [
    "def printsubsetHelper(arr, lst):\n",
    "    n=len(arr)\n",
    "    if(n==0):\n",
    "        for number in lst:\n",
    "            print(number, end=' ')\n",
    "        print()\n",
    "        return\n",
    "\n",
    "    printsubsetHelper(arr[1:], lst)\n",
    "    newLst = lst.copy()\n",
    "    newLst.append(arr[0])\n",
    "    printsubsetHelper(arr[1:], newLst)\n",
    "    return\n",
    "\n",
    "def printsubset(arr):\n",
    "    printsubsetHelper(arr,[])\n",
    "\n",
    "n=int(input())\n",
    "arr=list(int(i) for i in input().strip().split(' '))\n",
    "printsubset(arr)"
   ]
  },
  {
   "cell_type": "markdown",
   "id": "b7f90f1c",
   "metadata": {},
   "source": [
    "Print Subset Sum to K"
   ]
  },
  {
   "cell_type": "code",
   "execution_count": null,
   "id": "b60bb06c",
   "metadata": {},
   "outputs": [],
   "source": [
    "def printSubset(arr, k, lst):\n",
    "    n=len(arr)\n",
    "    if n==0:\n",
    "        return\n",
    "    if n==1:\n",
    "        if arr[0]==k:\n",
    "            print(k, *lst)\n",
    "            return\n",
    "\n",
    "    printSubset(arr[:-1], k, lst)\n",
    "    printSubset(arr[:-1], k-arr[-1], [arr[-1]]+lst)\n",
    "    if arr[-1]==k:\n",
    "        print(k, *lst)\n",
    "\n",
    "def printSubsetMain(arr, k):\n",
    "    printSubset(arr, k, [])\n",
    "\n",
    "n=int(input())\n",
    "arr=list(int(i) for i in input().strip().split(' '))\n",
    "k=int(input())\n",
    "printSubsetMain(arr, k)"
   ]
  },
  {
   "cell_type": "markdown",
   "id": "25d8929d",
   "metadata": {},
   "source": [
    "Print Permutations of a String"
   ]
  },
  {
   "cell_type": "code",
   "execution_count": null,
   "id": "642e4554",
   "metadata": {},
   "outputs": [],
   "source": [
    "def printPermutationsHelper(string,output):\n",
    "    if len(string) == 0:\n",
    "        print(output)\n",
    "        return\n",
    "    \n",
    "    for i in range(len(string)):\n",
    "        printPermutationsHelper(string[:i] + string[i+1:] , output + string[i])\n",
    "        \n",
    "def printPermutations(string):\n",
    "    printPermutationsHelper(string,\"\")\n",
    "\n",
    "string = input()\n",
    "printPermutations(string)"
   ]
  }
 ],
 "metadata": {
  "kernelspec": {
   "display_name": "Python 3",
   "language": "python",
   "name": "python3"
  },
  "language_info": {
   "codemirror_mode": {
    "name": "ipython",
    "version": 3
   },
   "file_extension": ".py",
   "mimetype": "text/x-python",
   "name": "python",
   "nbconvert_exporter": "python",
   "pygments_lexer": "ipython3",
   "version": "3.8.8"
  }
 },
 "nbformat": 4,
 "nbformat_minor": 5
}
