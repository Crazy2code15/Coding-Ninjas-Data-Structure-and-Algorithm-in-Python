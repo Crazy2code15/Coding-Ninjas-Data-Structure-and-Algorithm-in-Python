{
 "cells": [
  {
   "cell_type": "markdown",
   "id": "19d9ff07",
   "metadata": {},
   "source": [
    "Return Subsequences"
   ]
  },
  {
   "cell_type": "code",
   "execution_count": null,
   "id": "63ec558d",
   "metadata": {},
   "outputs": [],
   "source": [
    "def subsequences(string):\n",
    "    \n",
    "    if len(string) == 0:\n",
    "        output = [\"\"]\n",
    "        return output\n",
    "    \n",
    "    smallOutput = subsequences(string[1:])\n",
    "    output = []\n",
    "    for s in smallOutput:\n",
    "        output.append(s)\n",
    "        output.append(string[0] + s)\n",
    "    return output\n",
    "\n",
    "string = input()\n",
    "ans = subsequences(string)\n",
    "for ele in ans:\n",
    "    print(ele)\n"
   ]
  },
  {
   "cell_type": "markdown",
   "id": "894f9d2c",
   "metadata": {},
   "source": [
    "Return Keypad"
   ]
  },
  {
   "cell_type": "code",
   "execution_count": null,
   "id": "f021b85b",
   "metadata": {},
   "outputs": [],
   "source": [
    "options = [\"\", \"\", \"abc\", \"def\", \"ghi\", \"jkl\", \"mno\", \"pqrs\", \"tuv\", \"wxyz\"]\n",
    "\n",
    "def keypad(n):\n",
    "    if n==0:\n",
    "        output = [\"\"]\n",
    "        return output\n",
    "    smallOutput = keypad(n//10)\n",
    "    currDArray = options[n%10]\n",
    "    output = []\n",
    "    for d in currDArray:\n",
    "        for s in smallOutput:\n",
    "            output.append(s+d)\n",
    "    return output\n",
    "\n",
    "n = int(input())\n",
    "ans = keypad(n)\n",
    "for s in ans:\n",
    "    print(s)\n"
   ]
  },
  {
   "cell_type": "markdown",
   "id": "08a0886e",
   "metadata": {},
   "source": [
    "Print Subsequences"
   ]
  },
  {
   "cell_type": "code",
   "execution_count": null,
   "id": "3d63472b",
   "metadata": {},
   "outputs": [],
   "source": [
    "def printSubsequences(string, path) :\n",
    "    \n",
    "    if len(string) == 0 :\n",
    "        print(path)\n",
    "        return\n",
    "        \n",
    "    printSubsequences(string[1:], path)\n",
    "    printSubsequences(string[1:], path+string[0])\n",
    "    \n",
    "    \n",
    "#main\n",
    "string = input().strip()\n",
    "printSubsequences(string, '')"
   ]
  },
  {
   "cell_type": "markdown",
   "id": "95726866",
   "metadata": {},
   "source": [
    "Print Keypad"
   ]
  },
  {
   "cell_type": "code",
   "execution_count": null,
   "id": "cff45ee5",
   "metadata": {},
   "outputs": [],
   "source": [
    "def printKeypadHelper(num, str):\n",
    "    options = [\"\", \"\", \"abc\", \"def\", \"ghi\", \"jkl\", \"mno\", \"pqrs\", \"tuv\", \"wxyz\"]\n",
    "    if (num==0):\n",
    "        print(str)\n",
    "        return;\n",
    "\n",
    "    small = num//10\n",
    "    remainder = num%10\n",
    "    optionslen = len(options[remainder])\n",
    "    if(optionslen==0):\n",
    "        printKeypadHelper(small, str)\n",
    "        return\n",
    "\n",
    "    for i in range(0, optionslen):\n",
    "        printKeypadHelper(small, options[remainder][i] + str)\n",
    "\n",
    "def printKeypad(num):\n",
    "    printKeypadHelper(num,\"\")\n",
    "\n",
    "n=int(input())\n",
    "printKeypad(n)"
   ]
  }
 ],
 "metadata": {
  "kernelspec": {
   "display_name": "Python 3",
   "language": "python",
   "name": "python3"
  },
  "language_info": {
   "codemirror_mode": {
    "name": "ipython",
    "version": 3
   },
   "file_extension": ".py",
   "mimetype": "text/x-python",
   "name": "python",
   "nbconvert_exporter": "python",
   "pygments_lexer": "ipython3",
   "version": "3.8.8"
  }
 },
 "nbformat": 4,
 "nbformat_minor": 5
}
