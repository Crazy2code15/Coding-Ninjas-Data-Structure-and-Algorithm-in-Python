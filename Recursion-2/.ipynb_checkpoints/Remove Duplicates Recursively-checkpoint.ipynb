{
 "cells": [
  {
   "cell_type": "code",
   "execution_count": null,
   "id": "7c92c121",
   "metadata": {},
   "outputs": [],
   "source": [
    "def removeConsecutiveDuplicates(string):\n",
    "    if len(string) == 1:\n",
    "        return string\n",
    "    \n",
    "    if string[0] == string[1]:\n",
    "        smallOutput = removeConsecutiveDuplicates(string[1:])\n",
    "        return smallOutput   \n",
    "    \n",
    "    else:\n",
    "        nextOutput = removeConsecutiveDuplicates(string[1:])\n",
    "        return string[0] + nextOutput\n",
    "    # Please add your code here\n",
    "    pass\n",
    "\n",
    "# Main\n",
    "string = input().strip()\n",
    "print(removeConsecutiveDuplicates(string))"
   ]
  }
 ],
 "metadata": {
  "kernelspec": {
   "display_name": "Python 3",
   "language": "python",
   "name": "python3"
  },
  "language_info": {
   "codemirror_mode": {
    "name": "ipython",
    "version": 3
   },
   "file_extension": ".py",
   "mimetype": "text/x-python",
   "name": "python",
   "nbconvert_exporter": "python",
   "pygments_lexer": "ipython3",
   "version": "3.8.10"
  }
 },
 "nbformat": 4,
 "nbformat_minor": 5
}
