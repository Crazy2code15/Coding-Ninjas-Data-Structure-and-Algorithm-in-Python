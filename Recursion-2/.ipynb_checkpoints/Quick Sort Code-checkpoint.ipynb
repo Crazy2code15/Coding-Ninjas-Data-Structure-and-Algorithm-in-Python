{
 "cells": [
  {
   "cell_type": "code",
   "execution_count": null,
   "id": "4c2561ac",
   "metadata": {},
   "outputs": [],
   "source": [
    "def partition(a, si, ei):\n",
    "    pivot = a[si]\n",
    "    #find number of elements smaller than pivot    \n",
    "    count = 0\n",
    "    \n",
    "    for i in range(si, ei+1):\n",
    "        if a[i] < pivot:\n",
    "            count = count + 1\n",
    "    \n",
    "    a[si+count], a[si] = a[si], a[si+count]\n",
    "    pivot_index = si + count\n",
    "    \n",
    "    i = si\n",
    "    j = ei\n",
    "\t\n",
    "    while i < j:\n",
    "      if a[i] < pivot:\n",
    "        i = i + 1\n",
    "      elif a[j] >= pivot:\n",
    "        j = j - 1\n",
    "      else:\n",
    "        a[i], a[j] = a[j], a[i]\n",
    "        i = i + 1\n",
    "        j = j - 1\n",
    "        \n",
    "    return pivot_index\n",
    "def quick_sort(a, si, ei):\n",
    "    if si >= ei:\n",
    "        return \n",
    "    \n",
    "    pivot_index = partition(a, si, ei)\n",
    "    quick_sort(a, si, pivot_index-1)\n",
    "    quick_sort(a, pivot_index+1, ei)\n",
    "\t\n",
    "n=int(input())\n",
    "arr=list(int(i) for i in input().strip().split())\n",
    "quick_sort(arr, 0, n-1)\n",
    "print(*arr)"
   ]
  }
 ],
 "metadata": {
  "kernelspec": {
   "display_name": "Python 3",
   "language": "python",
   "name": "python3"
  },
  "language_info": {
   "codemirror_mode": {
    "name": "ipython",
    "version": 3
   },
   "file_extension": ".py",
   "mimetype": "text/x-python",
   "name": "python",
   "nbconvert_exporter": "python",
   "pygments_lexer": "ipython3",
   "version": "3.8.10"
  }
 },
 "nbformat": 4,
 "nbformat_minor": 5
}
