{
 "cells": [
  {
   "cell_type": "code",
   "execution_count": null,
   "id": "5abc914f",
   "metadata": {},
   "outputs": [],
   "source": [
    "def merge(left, right, arr):\n",
    "    i = 0\n",
    "    j = 0\n",
    "    k = 0\n",
    "    while i < len(left) and j < len(right):\n",
    "        if left[i] < right[j]:\n",
    "            arr[k] = left[i]\n",
    "            k += 1\n",
    "            i += 1\n",
    "        else:\n",
    "            arr[k] = right[j]\n",
    "            k += 1\n",
    "            j += 1\n",
    "    \n",
    "    while i < len(left):\n",
    "        arr[k] = left[i]\n",
    "        k += 1\n",
    "        i += 1\n",
    "\n",
    "    while j < len(right):\n",
    "        arr[k] = right[j]\n",
    "        k += 1\n",
    "        j += 1\n",
    "\n",
    "\n",
    "\n",
    "\n",
    "def mergeSort(arr):\n",
    "    # Please add your code here\n",
    "    n = len(arr)\n",
    " \n",
    "    if n == 1 or n ==0:\n",
    "        return \n",
    "    \n",
    "    mid = n//2\n",
    "    left = arr[0:mid]\n",
    "    right = arr[mid:]\n",
    "    mergeSort(left)\n",
    "    mergeSort(right)\n",
    "    merge(left,right,arr)\n",
    "    \n",
    "\n",
    "\n",
    "# Main\n",
    "n = int(input())\n",
    "arr = list(int(i) for i in input().strip().split(' '))\n",
    "mergeSort(arr)\n",
    "print(*arr)"
   ]
  }
 ],
 "metadata": {
  "kernelspec": {
   "display_name": "Python 3",
   "language": "python",
   "name": "python3"
  },
  "language_info": {
   "codemirror_mode": {
    "name": "ipython",
    "version": 3
   },
   "file_extension": ".py",
   "mimetype": "text/x-python",
   "name": "python",
   "nbconvert_exporter": "python",
   "pygments_lexer": "ipython3",
   "version": "3.8.10"
  }
 },
 "nbformat": 4,
 "nbformat_minor": 5
}
