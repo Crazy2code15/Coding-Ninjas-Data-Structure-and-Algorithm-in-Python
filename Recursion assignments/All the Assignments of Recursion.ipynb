{
 "cells": [
  {
   "cell_type": "markdown",
   "id": "e4c27861",
   "metadata": {},
   "source": [
    "Geometric Sum"
   ]
  },
  {
   "cell_type": "code",
   "execution_count": null,
   "id": "a71e13c9",
   "metadata": {},
   "outputs": [],
   "source": [
    "def geometric(n):\n",
    "    \n",
    "    if n == 0:\n",
    "        return 1\n",
    "    return 1/pow(2,n)+ geometric(n-1)\n",
    "\n",
    "n = int(input())\n",
    "val = geometric(n)\n",
    "print('%.5f' % val)"
   ]
  },
  {
   "cell_type": "markdown",
   "id": "f1bf9e5a",
   "metadata": {},
   "source": [
    "Check Palindrome (recursive)"
   ]
  },
  {
   "cell_type": "code",
   "execution_count": null,
   "id": "e3927635",
   "metadata": {},
   "outputs": [],
   "source": [
    "def is_palindrome(s):\n",
    "    if len(s) < 1:\n",
    "        return True\n",
    "    else:\n",
    "        if s[0] == s[-1]:\n",
    "            return is_palindrome(s[1:-1])\n",
    "        else:\n",
    "            return False\n",
    "\n",
    "\n",
    "a = str(input())\n",
    "if(is_palindrome(a) == True):\n",
    "    print(\"true\")\n",
    "else:\n",
    "    print(\"false\")"
   ]
  },
  {
   "cell_type": "markdown",
   "id": "2e5c9908",
   "metadata": {},
   "source": [
    "Sum of digits (recursive)"
   ]
  },
  {
   "cell_type": "code",
   "execution_count": null,
   "id": "539cd498",
   "metadata": {},
   "outputs": [],
   "source": [
    "def sum(n):\n",
    "    if n == 0:\n",
    "        return 0\n",
    "    else:\n",
    "        return n % 10 + sum(n//10)\n",
    "\n",
    "\n",
    "n = int(input())\n",
    "print(sum(n))"
   ]
  },
  {
   "cell_type": "markdown",
   "id": "ad6e94e7",
   "metadata": {},
   "source": [
    "Multiplication (Recursive)"
   ]
  },
  {
   "cell_type": "code",
   "execution_count": null,
   "id": "eac1754c",
   "metadata": {},
   "outputs": [],
   "source": [
    "def pro(m, n):\n",
    "    if m == 0 or n == 0:\n",
    "        return 0\n",
    "    elif m < n:\n",
    "        return n + pro(m-1, n)\n",
    "    else:\n",
    "        return m + pro(m, n-1)\n",
    "\n",
    "\n",
    "m = int(input())\n",
    "n = int(input())\n",
    "print(pro(m, n))"
   ]
  },
  {
   "cell_type": "markdown",
   "id": "eadd79e4",
   "metadata": {},
   "source": [
    "Count Zeros"
   ]
  },
  {
   "cell_type": "code",
   "execution_count": null,
   "id": "900369a4",
   "metadata": {},
   "outputs": [],
   "source": [
    "def count(n):\n",
    "    if n == 0:\n",
    "        return 1\n",
    "    if n < 10:\n",
    "        return 0\n",
    "    elif n % 10 == 0:\n",
    "        return count(n//10) + 1\n",
    "    return count(n//10)\n",
    "    \n",
    "n = int(input())\n",
    "print(count(n))"
   ]
  },
  {
   "cell_type": "markdown",
   "id": "fac080f5",
   "metadata": {},
   "source": [
    "String to Integer"
   ]
  },
  {
   "cell_type": "code",
   "execution_count": null,
   "id": "39f47376",
   "metadata": {},
   "outputs": [],
   "source": [
    "def strConv(s, li):\n",
    "    # print(li)\n",
    "    if len(s) == 0:\n",
    "        return li\n",
    "    else:\n",
    "        li.append(ord(s[0]) - 48)\n",
    "        return strConv(s[1:], li)\n",
    "\n",
    "\n",
    "s = input()\n",
    "\n",
    "li = []\n",
    "li = strConv(s, li)\n",
    "sum = 0\n",
    "for i in range(len(li)):\n",
    "    sum = sum * 10 + li[i]\n",
    "\n",
    "print(sum, end=\"\")"
   ]
  },
  {
   "cell_type": "markdown",
   "id": "d2942512",
   "metadata": {},
   "source": [
    "Pair Star"
   ]
  },
  {
   "cell_type": "code",
   "execution_count": null,
   "id": "62d51602",
   "metadata": {},
   "outputs": [],
   "source": [
    "def func(s):\n",
    "    if len(s) == 1:\n",
    "        return s\n",
    "\n",
    "    elif s[0] == s[1]:\n",
    "        return s[0] + \"*\" + func(s[1:])\n",
    "\n",
    "    else:\n",
    "        return s[0] + func(s[1:])\n",
    "\n",
    "\n",
    "s = input()\n",
    "print(func(s))"
   ]
  },
  {
   "cell_type": "markdown",
   "id": "e05ef6f0",
   "metadata": {},
   "source": [
    "Check AB"
   ]
  },
  {
   "cell_type": "code",
   "execution_count": null,
   "id": "357e1e61",
   "metadata": {},
   "outputs": [],
   "source": [
    "def abb(s, flag, bflag):\n",
    "  if len(s) == 0:\n",
    "    return flag\n",
    "\n",
    "  elif s[0] == \"a\":\n",
    "    flag = True\n",
    "    bflag = False\n",
    "    return abb(s[1:], flag, bflag)\n",
    "\n",
    "  elif s[0] == 'b' and s[1] == 'b':\n",
    "    if bflag == True:\n",
    "      return False\n",
    "    else:\n",
    "      bflag = True\n",
    "      return abb(s[2:], flag, bflag)\n",
    "  \n",
    "  else:\n",
    "    return False\n",
    "\n",
    "\n",
    "\n",
    "s = input()\n",
    "flag = True\n",
    "bflag = False\n",
    "if s[0] == \"a\":\n",
    "  x = abb(s, flag, bflag)\n",
    "else:\n",
    "  x = 0\n",
    "if x:\n",
    "  print(\"true\")\n",
    "else:\n",
    "  print(\"false\")"
   ]
  },
  {
   "cell_type": "markdown",
   "id": "e14f59db",
   "metadata": {},
   "source": [
    "Staircase"
   ]
  },
  {
   "cell_type": "code",
   "execution_count": null,
   "id": "c405c53d",
   "metadata": {},
   "outputs": [],
   "source": [
    "def stair(n):\n",
    "\n",
    "    if n == 0 or n == 1:\n",
    "        return 1\n",
    "    elif n == 2:\n",
    "        return 2\n",
    "    elif n == 3:\n",
    "        return 4\n",
    "    else:\n",
    "        return stair(n-3) + stair(n-2) + stair(n-1)\n",
    "\n",
    "\n",
    "n = int(input())\n",
    "print(stair(n))"
   ]
  }
 ],
 "metadata": {
  "kernelspec": {
   "display_name": "Python 3",
   "language": "python",
   "name": "python3"
  },
  "language_info": {
   "codemirror_mode": {
    "name": "ipython",
    "version": 3
   },
   "file_extension": ".py",
   "mimetype": "text/x-python",
   "name": "python",
   "nbconvert_exporter": "python",
   "pygments_lexer": "ipython3",
   "version": "3.8.10"
  }
 },
 "nbformat": 4,
 "nbformat_minor": 5
}
