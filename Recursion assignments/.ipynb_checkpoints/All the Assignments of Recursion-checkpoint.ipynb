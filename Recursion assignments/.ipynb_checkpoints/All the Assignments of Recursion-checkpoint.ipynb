{
 "cells": [
  {
   "cell_type": "markdown",
   "id": "b6e8031b",
   "metadata": {},
   "source": [
    "Geometric Sum"
   ]
  },
  {
   "cell_type": "code",
   "execution_count": null,
   "id": "16b3e10c",
   "metadata": {},
   "outputs": [],
   "source": [
    "def geometric(n):\n",
    "    \n",
    "    if n == 0:\n",
    "        return 1\n",
    "    return 1/pow(2,n)+ geometric(n-1)\n",
    "\n",
    "n = int(input())\n",
    "val = geometric(n)\n",
    "print('%.5f' % val)"
   ]
  },
  {
   "cell_type": "markdown",
   "id": "d5260bea",
   "metadata": {},
   "source": [
    "Check Palindrome (recursive)"
   ]
  },
  {
   "cell_type": "code",
   "execution_count": null,
   "id": "0e87a78c",
   "metadata": {},
   "outputs": [],
   "source": [
    "def is_palindrome(s):\n",
    "    if len(s) < 1:\n",
    "        return True\n",
    "    else:\n",
    "        if s[0] == s[-1]:\n",
    "            return is_palindrome(s[1:-1])\n",
    "        else:\n",
    "            return False\n",
    "\n",
    "\n",
    "a = str(input())\n",
    "if(is_palindrome(a) == True):\n",
    "    print(\"true\")\n",
    "else:\n",
    "    print(\"false\")"
   ]
  }
 ],
 "metadata": {
  "kernelspec": {
   "display_name": "Python 3",
   "language": "python",
   "name": "python3"
  },
  "language_info": {
   "codemirror_mode": {
    "name": "ipython",
    "version": 3
   },
   "file_extension": ".py",
   "mimetype": "text/x-python",
   "name": "python",
   "nbconvert_exporter": "python",
   "pygments_lexer": "ipython3",
   "version": "3.8.10"
  }
 },
 "nbformat": 4,
 "nbformat_minor": 5
}
