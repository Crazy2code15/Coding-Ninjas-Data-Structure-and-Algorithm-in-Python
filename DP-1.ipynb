{
 "cells": [
  {
   "cell_type": "markdown",
   "id": "88edb40c",
   "metadata": {},
   "source": [
    "Min Steps To 1"
   ]
  },
  {
   "cell_type": "code",
   "execution_count": null,
   "id": "57e98c70",
   "metadata": {},
   "outputs": [],
   "source": [
    "from sys import stdin\n",
    "from sys import maxsize as MAX_VALUE\n",
    "\n",
    "\n",
    "\n",
    "def countMinStepsToOne(n) :\n",
    "\tif n == 1 :\n",
    "\t\treturn 0\n",
    "\n",
    "\tminSteps = [0] * (n + 1)\n",
    "\t\n",
    "\tminSteps[1] = 0\n",
    "\n",
    "\tfor currStep in range(2, (n + 1)) :\n",
    "\n",
    "\t\tsubtractOne = MAX_VALUE\n",
    "\t\tdivideByTwo = MAX_VALUE\n",
    "\t\tdivideByThree = MAX_VALUE\n",
    "\n",
    "\t\tsubtractOne = minSteps[currStep - 1]\n",
    "\n",
    "\t\tif currStep % 2 == 0 :\n",
    "\t\t\tdivideByTwo = minSteps[currStep // 2]\n",
    "\n",
    "\t\tif currStep % 3 == 0 :\n",
    "\t\t\tdivideByThree = minSteps[currStep // 3]\n",
    "\n",
    "\t\tminSteps[currStep] = 1 + min(subtractOne, divideByTwo, divideByThree)\n",
    "\n",
    "\treturn minSteps[n]\n",
    "\n",
    "\n",
    "\n",
    "#main\n",
    "n = int(stdin.readline().rstrip())\n",
    "print(countMinStepsToOne(n))"
   ]
  },
  {
   "cell_type": "markdown",
   "id": "97a4b585",
   "metadata": {},
   "source": [
    "Minimum Number Of Squares"
   ]
  },
  {
   "cell_type": "code",
   "execution_count": null,
   "id": "9a6e84d1",
   "metadata": {},
   "outputs": [],
   "source": [
    "import sys\n",
    "def minStepsTo1(n):\n",
    "    \n",
    "    dp = [0 for i in range(n+1)]\n",
    "    \n",
    "    for i in range(1,n+1):\n",
    "        dp[i] = sys.maxsize\n",
    "        for j in range(1,i+1):\n",
    "            temp = j*j\n",
    "            if temp > i:\n",
    "                break\n",
    "            dp[i] = min(dp[i],1+dp[i-temp])\n",
    "    \n",
    "    ans = dp[n]\n",
    "    return ans\n",
    "        \n",
    "\n",
    "    \n",
    "n = int(input())\n",
    "ans = minStepsTo1(n)\n",
    "print(ans)"
   ]
  },
  {
   "cell_type": "markdown",
   "id": "8dd7a330",
   "metadata": {},
   "source": [
    "Longest Increasing Subsequence"
   ]
  },
  {
   "cell_type": "code",
   "execution_count": null,
   "id": "5f2d97e5",
   "metadata": {},
   "outputs": [],
   "source": [
    "from sys import stdin\n",
    "def lis(arr): \n",
    "    storage = [None for i in range(n)]\n",
    "    storage[0] = 1\n",
    "\n",
    "    ans = 1\n",
    "\n",
    "    for i in range(1 , n):\n",
    "        max = 1\n",
    "        for j in range(i - 1 , -1 , -1):\n",
    "            if (arr[j] < arr[i]):\n",
    "                op = storage[j] + 1\n",
    "\n",
    "                if (op > max):\n",
    "                    max = op          \n",
    "        \n",
    "\n",
    "        storage[i] = max\n",
    "\n",
    "        if (max > ans):\n",
    "            ans = max\n",
    "    \n",
    "    return ans\n",
    "        \n",
    "\n",
    "def takeInput():\n",
    "    #To take fast I/O\n",
    "    n=int(stdin.readline().strip())\n",
    "    if n==0:\n",
    "        return list(),0\n",
    "    arr=list(map(int,stdin.readline().strip().split( )))\n",
    "    return arr,n\n",
    "    \n",
    "\n",
    "arr,n=takeInput()\n",
    "print(lis(arr))"
   ]
  }
 ],
 "metadata": {
  "kernelspec": {
   "display_name": "Python 3",
   "language": "python",
   "name": "python3"
  },
  "language_info": {
   "codemirror_mode": {
    "name": "ipython",
    "version": 3
   },
   "file_extension": ".py",
   "mimetype": "text/x-python",
   "name": "python",
   "nbconvert_exporter": "python",
   "pygments_lexer": "ipython3",
   "version": "3.8.8"
  }
 },
 "nbformat": 4,
 "nbformat_minor": 5
}
