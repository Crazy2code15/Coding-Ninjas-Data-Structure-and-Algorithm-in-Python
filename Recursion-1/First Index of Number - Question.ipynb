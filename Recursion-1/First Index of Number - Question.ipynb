{
 "cells": [
  {
   "cell_type": "code",
   "execution_count": null,
   "id": "2f4cdb73",
   "metadata": {},
   "outputs": [],
   "source": [
    "def firstIndex(arr, x):\n",
    "    l = len(arr)\n",
    "    if l == 0:\n",
    "        return -1\n",
    "    \n",
    "    if arr[0] == x:\n",
    "        return 0\n",
    "    \n",
    "    smallerList = arr[1:]\n",
    "    smallerListOutput = firstIndex(smallerList, x)\n",
    "    if smallerListOutput == -1:\n",
    "        return -1\n",
    "    else:\n",
    "        return smallerListOutput + 1\n",
    "    # Please add your code here\n",
    "\n",
    "# Main\n",
    "from sys import setrecursionlimit\n",
    "setrecursionlimit(11000)\n",
    "n=int(input())\n",
    "arr=list(int(i) for i in input().strip().split(' '))\n",
    "x=int(input())\n",
    "print(firstIndex(arr, x))"
   ]
  }
 ],
 "metadata": {
  "kernelspec": {
   "display_name": "Python 3",
   "language": "python",
   "name": "python3"
  },
  "language_info": {
   "codemirror_mode": {
    "name": "ipython",
    "version": 3
   },
   "file_extension": ".py",
   "mimetype": "text/x-python",
   "name": "python",
   "nbconvert_exporter": "python",
   "pygments_lexer": "ipython3",
   "version": "3.8.10"
  }
 },
 "nbformat": 4,
 "nbformat_minor": 5
}
