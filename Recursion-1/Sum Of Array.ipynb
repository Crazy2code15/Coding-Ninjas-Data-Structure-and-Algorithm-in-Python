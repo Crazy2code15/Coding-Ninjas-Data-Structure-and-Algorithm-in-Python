{
 "cells": [
  {
   "cell_type": "markdown",
   "id": "1e96e975",
   "metadata": {},
   "source": [
    "Sum Of Array"
   ]
  },
  {
   "cell_type": "code",
   "execution_count": null,
   "id": "0ca7f8cc",
   "metadata": {},
   "outputs": [],
   "source": [
    "def sumArray(arr):\n",
    "    #print(type(arr))\n",
    "    #print(arr)\n",
    "    if len(arr) == 0:\n",
    "        return 0\n",
    "    else:\n",
    "        return arr[0] + sumArray(arr[1:])\n",
    "    # Please add your code here\n",
    "\n",
    "# Main\n",
    "from sys import setrecursionlimit\n",
    "setrecursionlimit(11000)\n",
    "n=int(input())\n",
    "arr=list(int(i) for i in input().strip().split(' '))\n",
    "print(sumArray(arr))"
   ]
  }
 ],
 "metadata": {
  "kernelspec": {
   "display_name": "Python 3",
   "language": "python",
   "name": "python3"
  },
  "language_info": {
   "codemirror_mode": {
    "name": "ipython",
    "version": 3
   },
   "file_extension": ".py",
   "mimetype": "text/x-python",
   "name": "python",
   "nbconvert_exporter": "python",
   "pygments_lexer": "ipython3",
   "version": "3.8.10"
  }
 },
 "nbformat": 4,
 "nbformat_minor": 5
}
